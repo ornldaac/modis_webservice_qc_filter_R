{
 "cells": [
  {
   "cell_type": "markdown",
   "metadata": {},
   "source": [
    "## Access the MODIS web service and perform quality filtering using R\n",
    "\n",
    "*Author: Jack McNelis*  \n",
    "*Date: March 27, 2018*  \n",
    "*Contact for the ORNL DAAC: uso@daac.ornl.gov*\n",
    "\n",
    "### Keywords: MODIS, web service, R, SOAP\n",
    "\n",
    "## Overview\n",
    "This notebook will explore using the **MODISTools** library in <b>R</b> to access MODIS Land Products through a standards based SOAP (Simple Object Access Protocol) Web Service hosted by the ORNL DAAC.\n",
    "\n",
    "Using the MODIS Web Service users can:\n",
    "\n",
    "* Retrieve MODIS subsets through command line operations\n",
    "* Download and integrate subsets directly into client-side workflows\n",
    "* Download and visualize subsets with customized code \n",
    "* ... and much more.\n",
    "\n",
    "This tutorial will demonstrate how to do the following in R:\n",
    "\n",
    "* build a time series of MOD11A2 land surface temperature from multiple web service requests\n",
    "* format subset responses for easy integration in R workflows\n",
    "* perform quality control filtering based on MODIS qc criteria\n",
    "\n",
    "## Prerequisites: \n",
    "\n",
    "R Libraries: MODISTools, ggplot2, scales, tidyr\n",
    "\n",
    "### MODISTools\n",
    "\n",
    "MODISTools is an R library that provides functions for retrieving subsets of MODIS data using the ORNL DAAC [MODIS Web Service](https://modis.ornl.gov/data/modis_webservice.html) and processing them to a format ready for user-friendly application in R. \n",
    "\n",
    "Tuck, S.L., Phillips, H.R.P., Hintzen, R.E., Scharlemann, J.P.W., Purvis, A. and Hudson, L.N. (2014) MODISTools -- downloading and processing MODIS remotely sensed data in R. Ecology and Evolution, 4 (24), 4658--4668. [10.1002/ece3.1273](https://onlinelibrary.wiley.com/doi/abs/10.1002/ece3.1273).\n",
    "\n",
    "## Tutorial\n",
    "\n",
    "### Install MODISTools R package\n",
    "\n",
    "The latest version of the MODISTools library is not available through CRAN. The ORNL DAAC hopes to make it available through CRAN in the near future.\n",
    "\n",
    "For now, it must be installed manually. The latest version is available through this repository:  \n",
    "[Download MODISTools.tar.gz](MODISTools.tar)\n",
    "\n",
    "Download the archive to your local machine and install using the following command:"
   ]
  },
  {
   "cell_type": "code",
   "execution_count": null,
   "metadata": {
    "collapsed": true
   },
   "outputs": [],
   "source": [
    "install.packages(\"MODISTools.tar.gz\",repos=NULL,type=\"source\") # Be sure to specify the path to the archive"
   ]
  },
  {
   "cell_type": "markdown",
   "metadata": {},
   "source": [
    "### Import MODISTools and other libraries"
   ]
  },
  {
   "cell_type": "code",
   "execution_count": 1,
   "metadata": {},
   "source": [
    "library(MODISTools)\n",
    "library(ggplot2)\n",
    "library(scales)\n",
    "library(tidyr)"
   ]
  },
  {
   "cell_type": "markdown",
   "metadata": {},
   "source": [
    "### Explore available web service functions\n",
    "\n",
    "MODIS Web Service functions are described at the web page below:  \n",
    "https://modis.ornl.gov/data/modis_webservice.html\n",
    "\n",
    "#### GetProducts()\n",
    "\n",
    "See what MODIS products are available via the web service using the **GetProducts()** function:"
   ]
  },
  {
   "cell_type": "code",
   "execution_count": 2,
   "metadata": {},
   "outputs": [
    {
     "data": {
      "text/html": [
       "<ol class=list-inline>\n",
       "\t<li>'MCD12Q1'</li>\n",
       "\t<li>'MCD12Q2'</li>\n",
       "\t<li>'MCD15A2H'</li>\n",
       "\t<li>'MCD15A3H'</li>\n",
       "\t<li>'MOD09A1'</li>\n",
       "\t<li>'MOD11A2'</li>\n",
       "\t<li>'MOD13Q1'</li>\n",
       "\t<li>'MOD15A2H'</li>\n",
       "\t<li>'MOD17A2H'</li>\n",
       "\t<li>'MOD17A3H'</li>\n",
       "\t<li>'MYD09A1'</li>\n",
       "\t<li>'MYD11A2'</li>\n",
       "\t<li>'MYD13Q1'</li>\n",
       "\t<li>'MYD15A2H'</li>\n",
       "\t<li>'MYD17A2H'</li>\n",
       "\t<li>'MYD17A3H'</li>\n",
       "</ol>\n"
      ],
      "text/latex": [
       "\\begin{enumerate*}\n",
       "\\item 'MCD12Q1'\n",
       "\\item 'MCD12Q2'\n",
       "\\item 'MCD15A2H'\n",
       "\\item 'MCD15A3H'\n",
       "\\item 'MOD09A1'\n",
       "\\item 'MOD11A2'\n",
       "\\item 'MOD13Q1'\n",
       "\\item 'MOD15A2H'\n",
       "\\item 'MOD17A2H'\n",
       "\\item 'MOD17A3H'\n",
       "\\item 'MYD09A1'\n",
       "\\item 'MYD11A2'\n",
       "\\item 'MYD13Q1'\n",
       "\\item 'MYD15A2H'\n",
       "\\item 'MYD17A2H'\n",
       "\\item 'MYD17A3H'\n",
       "\\end{enumerate*}\n"
      ],
      "text/markdown": [
       "1. 'MCD12Q1'\n",
       "2. 'MCD12Q2'\n",
       "3. 'MCD15A2H'\n",
       "4. 'MCD15A3H'\n",
       "5. 'MOD09A1'\n",
       "6. 'MOD11A2'\n",
       "7. 'MOD13Q1'\n",
       "8. 'MOD15A2H'\n",
       "9. 'MOD17A2H'\n",
       "10. 'MOD17A3H'\n",
       "11. 'MYD09A1'\n",
       "12. 'MYD11A2'\n",
       "13. 'MYD13Q1'\n",
       "14. 'MYD15A2H'\n",
       "15. 'MYD17A2H'\n",
       "16. 'MYD17A3H'\n",
       "\n",
       "\n"
      ],
      "text/plain": [
       " [1] \"MCD12Q1\"  \"MCD12Q2\"  \"MCD15A2H\" \"MCD15A3H\" \"MOD09A1\"  \"MOD11A2\" \n",
       " [7] \"MOD13Q1\"  \"MOD15A2H\" \"MOD17A2H\" \"MOD17A3H\" \"MYD09A1\"  \"MYD11A2\" \n",
       "[13] \"MYD13Q1\"  \"MYD15A2H\" \"MYD17A2H\" \"MYD17A3H\""
      ]
     },
     "metadata": {},
     "output_type": "display_data"
    }
   ],
   "source": [
    "GetProducts()"
   ]
  },
  {
   "cell_type": "markdown",
   "metadata": {},
   "source": [
    "####  GetBands(\"product\")\n",
    "* product --- string; MODIS product code as listed by **GetProducts()**\n",
    "\n",
    "See what bands are available for the [MOD11A2 Land Surface Temperature/Emissivity](https://lpdaac.usgs.gov/dataset_discovery/modis/modis_products_table/mod11a2_v006) product using the **GetBands()** function:"
   ]
  },
  {
   "cell_type": "code",
   "execution_count": 3,
   "metadata": {},
   "outputs": [
    {
     "data": {
      "text/html": [
       "<ol class=list-inline>\n",
       "\t<li>'Clear_sky_days'</li>\n",
       "\t<li>'Clear_sky_nights'</li>\n",
       "\t<li>'Day_view_angl'</li>\n",
       "\t<li>'Day_view_time'</li>\n",
       "\t<li>'Emis_31'</li>\n",
       "\t<li>'Emis_32'</li>\n",
       "\t<li>'Night_view_angl'</li>\n",
       "\t<li>'Night_view_time'</li>\n",
       "\t<li>'QC_Day'</li>\n",
       "\t<li>'QC_Night'</li>\n",
       "\t<li>'LST_Day_1km'</li>\n",
       "\t<li>'LST_Night_1km'</li>\n",
       "</ol>\n"
      ],
      "text/latex": [
       "\\begin{enumerate*}\n",
       "\\item 'Clear\\_sky\\_days'\n",
       "\\item 'Clear\\_sky\\_nights'\n",
       "\\item 'Day\\_view\\_angl'\n",
       "\\item 'Day\\_view\\_time'\n",
       "\\item 'Emis\\_31'\n",
       "\\item 'Emis\\_32'\n",
       "\\item 'Night\\_view\\_angl'\n",
       "\\item 'Night\\_view\\_time'\n",
       "\\item 'QC\\_Day'\n",
       "\\item 'QC\\_Night'\n",
       "\\item 'LST\\_Day\\_1km'\n",
       "\\item 'LST\\_Night\\_1km'\n",
       "\\end{enumerate*}\n"
      ],
      "text/markdown": [
       "1. 'Clear_sky_days'\n",
       "2. 'Clear_sky_nights'\n",
       "3. 'Day_view_angl'\n",
       "4. 'Day_view_time'\n",
       "5. 'Emis_31'\n",
       "6. 'Emis_32'\n",
       "7. 'Night_view_angl'\n",
       "8. 'Night_view_time'\n",
       "9. 'QC_Day'\n",
       "10. 'QC_Night'\n",
       "11. 'LST_Day_1km'\n",
       "12. 'LST_Night_1km'\n",
       "\n",
       "\n"
      ],
      "text/plain": [
       " [1] \"Clear_sky_days\"   \"Clear_sky_nights\" \"Day_view_angl\"    \"Day_view_time\"   \n",
       " [5] \"Emis_31\"          \"Emis_32\"          \"Night_view_angl\"  \"Night_view_time\" \n",
       " [9] \"QC_Day\"           \"QC_Night\"         \"LST_Day_1km\"      \"LST_Night_1km\"   "
      ]
     },
     "metadata": {},
     "output_type": "display_data"
    }
   ],
   "source": [
    "GetBands('MOD11A2')"
   ]
  },
  {
   "cell_type": "markdown",
   "metadata": {},
   "source": [
    "#### GetDates(latitude, longitude, \"product\")\n",
    "The MODIS Web Service has a ten tile limit per request to ensure responsivity of the service and to avoid time outs. The **GetDates()** function is used to create a list of available dates for the specified coordinate and MODIS product.\n",
    "\n",
    "| Parameter          | Type    | Description                                                   |\n",
    "|:-------------------|:-------:|:--------------------------------------------------------------|\n",
    "| **lat**            | float   | latitude                                                      |\n",
    "| **long**           | float   | longitude                                                     |\n",
    "| **product**        | string  | MODIS product code as listed by **GetProducts()**             |\n",
    "\n",
    "Create a list of dates for MOD11A2 for a coordinate in North Table Mountain Ecological Reserve in California (39.56499, -121.55527) using the **GetDates()** function:"
   ]
  },
  {
   "cell_type": "code",
   "execution_count": 4,
   "metadata": {},
   "outputs": [
    {
     "data": {
      "text/html": [
       "<ol class=list-inline>\n",
       "\t<li>'A2000049'</li>\n",
       "\t<li>'A2000057'</li>\n",
       "\t<li>'A2000065'</li>\n",
       "\t<li>'A2000073'</li>\n",
       "\t<li>'A2000081'</li>\n",
       "\t<li>'A2000089'</li>\n",
       "\t<li>'A2000097'</li>\n",
       "\t<li>'A2000105'</li>\n",
       "\t<li>'A2000113'</li>\n",
       "\t<li>'A2000121'</li>\n",
       "</ol>\n"
      ],
      "text/latex": [
       "\\begin{enumerate*}\n",
       "\\item 'A2000049'\n",
       "\\item 'A2000057'\n",
       "\\item 'A2000065'\n",
       "\\item 'A2000073'\n",
       "\\item 'A2000081'\n",
       "\\item 'A2000089'\n",
       "\\item 'A2000097'\n",
       "\\item 'A2000105'\n",
       "\\item 'A2000113'\n",
       "\\item 'A2000121'\n",
       "\\end{enumerate*}\n"
      ],
      "text/markdown": [
       "1. 'A2000049'\n",
       "2. 'A2000057'\n",
       "3. 'A2000065'\n",
       "4. 'A2000073'\n",
       "5. 'A2000081'\n",
       "6. 'A2000089'\n",
       "7. 'A2000097'\n",
       "8. 'A2000105'\n",
       "9. 'A2000113'\n",
       "10. 'A2000121'\n",
       "\n",
       "\n"
      ],
      "text/plain": [
       " [1] \"A2000049\" \"A2000057\" \"A2000065\" \"A2000073\" \"A2000081\" \"A2000089\"\n",
       " [7] \"A2000097\" \"A2000105\" \"A2000113\" \"A2000121\""
      ]
     },
     "metadata": {},
     "output_type": "display_data"
    }
   ],
   "source": [
    "dates <- GetDates(39.56499, -121.55527, 'MOD11A2')\n",
    "\n",
    "# Print the first ten MODIS dates\n",
    "dates[1:10]"
   ]
  },
  {
   "cell_type": "markdown",
   "metadata": {},
   "source": [
    "#### **GetSubset(lat, long, \"product\", \"band\", \"start_date\", \"end_date\", km_above/below, km_left/right)**          \n",
    "Returns the subset specified by the input parameters. km_above/below and km_left/right indicates the number of kilometers above and below, left and right of the center pixel of the subset; e.g. for a 500-m product (MOD09A1) 10, 10 will result in a subset with a spatial extent covering 20.5- x 20.5-km.  \n",
    "\n",
    "| Parameter          | Type    | Description                                                   |\n",
    "|:-------------------|:-------:|:--------------------------------------------------------------|\n",
    "| **lat**            | float   | latitude                                                      |\n",
    "| **long**           | float   | longitude                                                     |\n",
    "| **product**        | string  | MODIS product code as listed by **GetProducts()**             |\n",
    "| **band**           | string  | band ID as listed by **GetBands()**                           |\n",
    "| **start_date**     | string  | start date as listed by **GetDates()**                        |\n",
    "| **end_date**       | string  | end date as listed by **GetDates()**                          |\n",
    "| **km_above/below** | integer | number of kilometers to subset above and below center pixel   |\n",
    "| **km_left/right**  | integer | number of kilometers to subset left and right of center pixel |\n",
    "\n",
    "Submit a request for the MOD11A2 daytime LST 8-day composite for January 1, 2001 for a 4.5- by 4.5-km area in North Table Mountain Ecological Reserve in California (39.56499, -121.55527) using the **GetSubset()** function:"
   ]
  },
  {
   "cell_type": "code",
   "execution_count": 5,
   "metadata": {
    "scrolled": true
   },
   "outputs": [
    {
     "data": {
      "text/html": [
       "<table>\n",
       "<thead><tr><th scope=col>xll</th><th scope=col>yll</th><th scope=col>pixelsize</th><th scope=col>nrow</th><th scope=col>ncol</th><th scope=col>band</th><th scope=col>scale</th><th scope=col>lat</th><th scope=col>long</th><th scope=col>subset</th></tr></thead>\n",
       "<tbody>\n",
       "\t<tr><td>-10421756.18                                                                                                                                                                                                                                                                 </td><td>4396837.72                                                                                                                                                                                                                                                                   </td><td>926.62543305583381                                                                                                                                                                                                                                                           </td><td>5                                                                                                                                                                                                                                                                            </td><td>5                                                                                                                                                                                                                                                                            </td><td>LST_Day_1km                                                                                                                                                                                                                                                                  </td><td>0.02                                                                                                                                                                                                                                                                         </td><td>39.56499                                                                                                                                                                                                                                                                     </td><td>-121.55527                                                                                                                                                                                                                                                                   </td><td>MOD11A2.A2001001.h08v05.006.2015111234608.LST_Day_1km,MOD11A2,A2001001,Lat39.56499Lon-121.55527Samp5Line5,2015111234608,14341,14349,14366,14391,14404,14360,14354,14363,14351,14344,14328,14299,14270,14374,14396,14285,14294,14293,14375,14364,14353,14301,14271,14350,14270</td></tr>\n",
       "</tbody>\n",
       "</table>\n"
      ],
      "text/latex": [
       "\\begin{tabular}{r|llllllllll}\n",
       " xll & yll & pixelsize & nrow & ncol & band & scale & lat & long & subset\\\\\n",
       "\\hline\n",
       "\t -10421756.18                                                                                                                                                                                                                                                                      & 4396837.72                                                                                                                                                                                                                                                                        & 926.62543305583381                                                                                                                                                                                                                                                                & 5                                                                                                                                                                                                                                                                                 & 5                                                                                                                                                                                                                                                                                 & LST\\_Day\\_1km                                                                                                                                                                                                                                                                   & 0.02                                                                                                                                                                                                                                                                              & 39.56499                                                                                                                                                                                                                                                                          & -121.55527                                                                                                                                                                                                                                                                        & MOD11A2.A2001001.h08v05.006.2015111234608.LST\\_Day\\_1km,MOD11A2,A2001001,Lat39.56499Lon-121.55527Samp5Line5,2015111234608,14341,14349,14366,14391,14404,14360,14354,14363,14351,14344,14328,14299,14270,14374,14396,14285,14294,14293,14375,14364,14353,14301,14271,14350,14270\\\\\n",
       "\\end{tabular}\n"
      ],
      "text/markdown": [
       "\n",
       "xll | yll | pixelsize | nrow | ncol | band | scale | lat | long | subset | \n",
       "|---|\n",
       "| -10421756.18                                                                                                                                                                                                                                                                  | 4396837.72                                                                                                                                                                                                                                                                    | 926.62543305583381                                                                                                                                                                                                                                                            | 5                                                                                                                                                                                                                                                                             | 5                                                                                                                                                                                                                                                                             | LST_Day_1km                                                                                                                                                                                                                                                                   | 0.02                                                                                                                                                                                                                                                                          | 39.56499                                                                                                                                                                                                                                                                      | -121.55527                                                                                                                                                                                                                                                                    | MOD11A2.A2001001.h08v05.006.2015111234608.LST_Day_1km,MOD11A2,A2001001,Lat39.56499Lon-121.55527Samp5Line5,2015111234608,14341,14349,14366,14391,14404,14360,14354,14363,14351,14344,14328,14299,14270,14374,14396,14285,14294,14293,14375,14364,14353,14301,14271,14350,14270 | \n",
       "\n",
       "\n"
      ],
      "text/plain": [
       "  xll          yll        pixelsize          nrow ncol band        scale\n",
       "1 -10421756.18 4396837.72 926.62543305583381  5    5    LST_Day_1km 0.02 \n",
       "  lat      long      \n",
       "1 39.56499 -121.55527\n",
       "  subset                                                                                                                                                                                                                                                                       \n",
       "1 MOD11A2.A2001001.h08v05.006.2015111234608.LST_Day_1km,MOD11A2,A2001001,Lat39.56499Lon-121.55527Samp5Line5,2015111234608,14341,14349,14366,14391,14404,14360,14354,14363,14351,14344,14328,14299,14270,14374,14396,14285,14294,14293,14375,14364,14353,14301,14271,14350,14270"
      ]
     },
     "metadata": {},
     "output_type": "display_data"
    }
   ],
   "source": [
    "subset <- GetSubset(39.56499, -121.55527, 'MOD11A2', 'LST_Day_1km', 'A2001001', 'A2001001', 2, 2)\n",
    "subset"
   ]
  },
  {
   "cell_type": "markdown",
   "metadata": {},
   "source": [
    "The **MODISTools** library formats the SOAP XML response of the **GetSubset()** function as an R data.frame (see <b>Out [5]</b>).  The first nine variables of the data.frame provide general metadata about your subset:  \n",
    "\n",
    "* *xll* --- MODIS sinusoidal x-coordinate of the lower left corner of the subset\n",
    "* *yll* --- MODIS sinusoidal y-coordinate of the lower left corner of the subset\n",
    "* *pixelsize* --- cell size in meters\n",
    "* *nrow* --- number of rows in the subset\n",
    "* *ncol* --- number of columns in the subset\n",
    "* *band* --- requested band\n",
    "* *scale* --- scale factor\n",
    "* *lat* --- latitude of center pixel of subset\n",
    "* *long* --- longitude of center pixel of subset\n",
    "\n",
    "The *subset* variable contains the subset data as a list of lines in CSV format:\n",
    "\n",
    "| **Column Number** | **Header**   | **Data**                                                   | **Description**            |\n",
    "|-------------------|--------------|------------------------------------------------------------|----------------------------|\n",
    "|         1         | HDFname      | MOD13Q1.A2000049.h10v05.006.2015136104605.250m_16_days_EVI | HDF file for row timestamp |\n",
    "|         2         | Product      | MOD13Q1                                                    | MODIS Product name         |\n",
    "|         3         | Date         | A2000049                                                   | MODIS julian date          |\n",
    "|         4         | Location     | Lat35Lon-90Samp1Line1                                      | Pixel location             |\n",
    "|         5         |Processed_Date| 2015136104605                                              | Date of HDF processing     |\n",
    "|         6 - n     | Subset_Data  | 2218                                                       | Requested data value(s)    |\n",
    "\n",
    "Convert the *subset* variable into a new data.frame using the *separate()* function from the <b>tidyr</b> package:"
   ]
  },
  {
   "cell_type": "code",
   "execution_count": 6,
   "metadata": {
    "scrolled": false
   },
   "outputs": [
    {
     "data": {
      "text/html": [
       "<table>\n",
       "<thead><tr><th scope=col>HDFname</th><th scope=col>Product</th><th scope=col>Date</th><th scope=col>Location</th><th scope=col>Processed_Date</th><th scope=col>Subset_Data</th></tr></thead>\n",
       "<tbody>\n",
       "\t<tr><td>MOD11A2.A2001001.h08v05.006.2015111234608.LST_Day_1km                                                                                                </td><td>MOD11A2                                                                                                                                              </td><td>A2001001                                                                                                                                             </td><td>Lat39.56499Lon-121.55527Samp5Line5                                                                                                                   </td><td>2015111234608                                                                                                                                        </td><td>14341,14349,14366,14391,14404,14360,14354,14363,14351,14344,14328,14299,14270,14374,14396,14285,14294,14293,14375,14364,14353,14301,14271,14350,14270</td></tr>\n",
       "</tbody>\n",
       "</table>\n"
      ],
      "text/latex": [
       "\\begin{tabular}{r|llllll}\n",
       " HDFname & Product & Date & Location & Processed\\_Date & Subset\\_Data\\\\\n",
       "\\hline\n",
       "\t MOD11A2.A2001001.h08v05.006.2015111234608.LST\\_Day\\_1km                                                                                             & MOD11A2                                                                                                                                               & A2001001                                                                                                                                              & Lat39.56499Lon-121.55527Samp5Line5                                                                                                                    & 2015111234608                                                                                                                                         & 14341,14349,14366,14391,14404,14360,14354,14363,14351,14344,14328,14299,14270,14374,14396,14285,14294,14293,14375,14364,14353,14301,14271,14350,14270\\\\\n",
       "\\end{tabular}\n"
      ],
      "text/markdown": [
       "\n",
       "HDFname | Product | Date | Location | Processed_Date | Subset_Data | \n",
       "|---|\n",
       "| MOD11A2.A2001001.h08v05.006.2015111234608.LST_Day_1km                                                                                                 | MOD11A2                                                                                                                                               | A2001001                                                                                                                                              | Lat39.56499Lon-121.55527Samp5Line5                                                                                                                    | 2015111234608                                                                                                                                         | 14341,14349,14366,14391,14404,14360,14354,14363,14351,14344,14328,14299,14270,14374,14396,14285,14294,14293,14375,14364,14353,14301,14271,14350,14270 | \n",
       "\n",
       "\n"
      ],
      "text/plain": [
       "  HDFname                                               Product Date    \n",
       "1 MOD11A2.A2001001.h08v05.006.2015111234608.LST_Day_1km MOD11A2 A2001001\n",
       "  Location                           Processed_Date\n",
       "1 Lat39.56499Lon-121.55527Samp5Line5 2015111234608 \n",
       "  Subset_Data                                                                                                                                          \n",
       "1 14341,14349,14366,14391,14404,14360,14354,14363,14351,14344,14328,14299,14270,14374,14396,14285,14294,14293,14375,14364,14353,14301,14271,14350,14270"
      ]
     },
     "metadata": {},
     "output_type": "display_data"
    }
   ],
   "source": [
    "subset <- separate(as.data.frame(subset$subset), 1, c('HDFname', 'Product', 'Date', 'Location', 'Processed_Date', 'Subset_Data'), sep = \",\", remove = TRUE, extra = 'merge')\n",
    "subset"
   ]
  },
  {
   "cell_type": "markdown",
   "metadata": {},
   "source": [
    "Now you're ready to work with the data. Let's request a time series for the same area.\n",
    "### Build time series from multiple requests\n",
    "\n",
    "Because of the ten tile limit imposed by the web service, we must submit multiple requests to build a multi-year time series. MOD11A2 is generated in 8-day composites for a total of 46 composite periods per calendar year. \n",
    "\n",
    "Let's request three years of LST data for a 20.5- x 20.5-km area around the same coordinate in North Table Mountain Ecological Reserve (39.56499, -121.55527). Set up the **GetSubset()** input parameters:"
   ]
  },
  {
   "cell_type": "code",
   "execution_count": 7,
   "metadata": {
    "collapsed": true
   },
   "outputs": [],
   "source": [
    "in_lat <- 39.56499 # Input latitude\n",
    "in_lon <- -121.55527 # Input longitude\n",
    "in_prod <- 'MOD11A2' # MODIS product\n",
    "lst_band <- 'LST_Day_1km' # Daytime LST band name\n",
    "qc_band <- 'QC_Day' # Daytime QC band name\n",
    "km_ab <- 10 # km above/below\n",
    "km_lr <- 10 # km left/right"
   ]
  },
  {
   "cell_type": "markdown",
   "metadata": {},
   "source": [
    "We will loop through the *dates* variable in increments of ten and submit requests for both the **daytime LST** and **daytime QC layers**. This may take several minutes:"
   ]
  },
  {
   "cell_type": "code",
   "execution_count": 8,
   "metadata": {},
   "source": [
    "# Take three years of dates beginning with 2001001 (+ 137; 46*3=138)\n",
    "dates <- dates[which(dates == 'A2001001'):(which(dates == 'A2001001') + 137)]\n",
    "\n",
    "# Initialize response lists for LST and the QC layers\n",
    "timeseries <- list()\n",
    "timeseriesqc <- list()\n",
    "\n",
    "# Iterate through the list of dates and submit GetSubset() requests in increments of 10 dates.\n",
    "for (dt in seq(from=1,to=(length(dates)-10), by=10)){\n",
    "    subset <- GetSubset(in_lat, in_lon, in_prod, lst_band, dates[dt], dates[dt + 9], km_ab, km_lr)\n",
    "    timeseries[length(timeseries) + 1] <- subset$subset # Append response to timeseries list\n",
    "    subsetqc <- GetSubset(in_lat, in_lon, in_prod, qc_band, dates[dt], dates[dt + 9], km_ab, km_lr)\n",
    "    timeseriesqc[length(timeseriesqc) + 1] <- subsetqc$subset # Append response to timeseriesqc list\n",
    "}\n",
    "# Submit GetSubset() requests for the last <=10 dates.\n",
    "subset <- GetSubset(in_lat, in_lon, in_prod, lst_band, dates[dt + 10], tail(dates, n=1), km_ab, km_lr)\n",
    "timeseries[length(timeseries) + 1] <- subset$subset # Append response to timeseries list\n",
    "subsetqc <- GetSubset(in_lat, in_lon, in_prod, qc_band, dates[dt + 10], tail(dates, n=1), km_ab, km_lr)\n",
    "timeseriesqc[length(timeseriesqc) + 1] <- subsetqc$subset # Append response to timeseriesqc list\n",
    "\n",
    "# Get number of rows and columns in the subset for data transformation\n",
    "nrow = as.integer(subset$nrow)\n",
    "ncol = as.integer(subset$ncol)"
   ]
  },
  {
   "cell_type": "markdown",
   "metadata": {},
   "source": [
    "**Create LST and QC data.frames**\n",
    "\n",
    "Use the **tidyr** function *separate()* to convert the list of subsets to data.frames. Then, separate the **Subset_Data** columns from *timeseries* and *timeseriesqc* into data.frames *lstdata* and *qcdata*."
   ]
  },
  {
   "cell_type": "code",
   "execution_count": 9,
   "metadata": {
    "collapsed": true
   },
   "outputs": [],
   "source": [
    "# Create data.frames from list of subset responses (timeseries and timeseriesqc)\n",
    "timeseries <- separate(as.data.frame(unlist(timeseries)), 1, c('HDFname', 'Product', 'Date', 'Location', 'Processed_Date', 'Subset_Data'), sep = ',', remove = TRUE, extra = 'merge') \n",
    "timeseriesqc <- separate(as.data.frame(unlist(timeseriesqc)), 1, c('HDFname', 'Product', 'Date', 'Location', 'Processed_Date', 'Subset_Data'), sep = ',', remove = TRUE, extra = 'merge')\n",
    "\n",
    "# Change the Date columns of timeseries and timeseriesqc into R dates:\n",
    "timeseries$Date <- as.Date(substring(timeseries$Date, 2), '%Y%j')\n",
    "timeseriesqc$Date <- as.Date(substring(timeseriesqc$Date, 2), '%Y%j')\n",
    "\n",
    "# Create data.frames for LST and QC data columns (lstdata and qcdata); convert type character to numeric\n",
    "lstdata <- sapply(separate(as.data.frame(timeseries$Subset_Data), 1, paste(rep(\"pixel\", nrow*ncol), c(1:(nrow*ncol)), sep=\"\")), as.numeric)\n",
    "qcdata <- sapply(separate(as.data.frame(timeseriesqc$Subset_Data), 1, paste(rep(\"pixel\", nrow*ncol), c(1:(nrow*ncol)), sep=\"\")), as.numeric)\n",
    "\n",
    "# Add rownames to lstdata\n",
    "rownames(lstdata) <- as.character(timeseries$Date)"
   ]
  },
  {
   "cell_type": "markdown",
   "metadata": {},
   "source": [
    "Now that we have the LST and QC time series for our subset area, we can perform the quality filtering.\n",
    "\n",
    "### Evaluate data quality\n",
    "\n",
    "In order to filter pixels of questionable quality from our LST time series, we need to understand the QC bit layer. We will build a QC integer table using a method similar to the one implemented [here](https://stevemosher.wordpress.com/2012/12/05/modis-qc-bits/).\n",
    "\n",
    "Let's start by getting the unique values from the QC subset data.frame:"
   ]
  },
  {
   "cell_type": "code",
   "execution_count": 10,
   "metadata": {},
   "outputs": [
    {
     "name": "stdout",
     "output_type": "stream",
     "text": [
      "[1] Unique QC values: 0, 2, 17, 65, 81, 97, 145\n"
     ]
    }
   ],
   "source": [
    "qcvals <- unique(as.numeric(sapply(strsplit(as.character(timeseriesqc$Subset_Data), \"\\\\,\"), function(x) x)))\n",
    "print(paste('Unique QC values: ', paste(sort(qcvals), collapse=', '), sep = ''), quote = FALSE)"
   ]
  },
  {
   "cell_type": "markdown",
   "metadata": {},
   "source": [
    "MOD11A2 uses 8-bit unsigned integers to indicate the quality of each pixel. See the [MOD11A2](https://lpdaac.usgs.gov/dataset_discovery/modis/modis_products_table/mod11a2_v006) page of the [MODIS Product Table](https://lpdaac.usgs.gov/dataset_discovery/modis/modis_products_table) for additional resources for understanding the QC layers.\n",
    "\n",
    "Build a table describing the QC bits for all possible 8-bit integer values (0-255):"
   ]
  },
  {
   "cell_type": "code",
   "execution_count": 11,
   "metadata": {
    "collapsed": true
   },
   "outputs": [],
   "source": [
    "# Create empty data.frame with a row for each possible QC integer value and columns for each bit\n",
    "QC_Data <- data.frame(\n",
    "    Integer_Value = 0:255, Bit7 = NA, Bit6 = NA, Bit5 = NA, Bit4 = NA, Bit3 = NA, Bit2 = NA, \n",
    "    Bit1 = NA, Bit0 = NA, Mandatory_QA = NA, Data_Quality = NA, Emiss_Err = NA, LST_Err = NA\n",
    ")\n",
    "\n",
    "# Loop through each 8-bit integer and populate the QC bit columns with 0s and 1s\n",
    "for(i in QC_Data$Integer_Value){\n",
    "    AsInt <- as.integer(intToBits(i)[1:8])\n",
    "    QC_Data[i+1,2:9]<- AsInt[8:1] # Flip to big endian\n",
    "}\n",
    "\n",
    "# Describe the QC bits based on the criteria outlined in the MODIS product table\n",
    "QC_Data$Mandatory_QA[QC_Data$Bit1 == 0 & QC_Data$Bit0==0] <- 'LST GOOD'\n",
    "QC_Data$Mandatory_QA[QC_Data$Bit1 == 0 & QC_Data$Bit0==1] <- 'LST Produced,Other Quality'\n",
    "QC_Data$Mandatory_QA[QC_Data$Bit1 == 1 & QC_Data$Bit0==0] <- 'No Pixel,clouds'\n",
    "QC_Data$Mandatory_QA[QC_Data$Bit1 == 1 & QC_Data$Bit0==1] <- 'No Pixel, Other QA'\n",
    "\n",
    "QC_Data$Data_Quality[QC_Data$Bit3 == 0 & QC_Data$Bit2==0] <- 'Good Data'\n",
    "QC_Data$Data_Quality[QC_Data$Bit3 == 0 & QC_Data$Bit2==1] <- 'Other Quality'\n",
    "QC_Data$Data_Quality[QC_Data$Bit3 == 1 & QC_Data$Bit2==0] <- 'TBD'\n",
    "QC_Data$Data_Quality[QC_Data$Bit3 == 1 & QC_Data$Bit2==1] <- 'TBD'\n",
    "\n",
    "QC_Data$Emiss_Err[QC_Data$Bit5 == 0 & QC_Data$Bit4==0] <- 'Emiss Error <= .01'\n",
    "QC_Data$Emiss_Err[QC_Data$Bit5 == 0 & QC_Data$Bit4==1] <- 'Emiss Err <=.02'\n",
    "QC_Data$Emiss_Err[QC_Data$Bit5 == 1 & QC_Data$Bit4==0] <- 'Emiss Err <=.04'\n",
    "QC_Data$Emiss_Err[QC_Data$Bit5 == 1 & QC_Data$Bit4==1] <- 'Emiss Err > .04'\n",
    "\n",
    "QC_Data$LST_Err[QC_Data$Bit7 == 0 & QC_Data$Bit6==0] <- 'LST Err <= 1K'\n",
    "QC_Data$LST_Err[QC_Data$Bit7 == 0 & QC_Data$Bit6==1] <- 'LST Err <= 3K'\n",
    "QC_Data$LST_Err[QC_Data$Bit7 == 1 & QC_Data$Bit6==0] <- 'LST Err <= 2K'\n",
    "QC_Data$LST_Err[QC_Data$Bit7 == 1 & QC_Data$Bit6==1] <- 'LST Err > 3K'"
   ]
  },
  {
   "cell_type": "markdown",
   "metadata": {},
   "source": [
    "The table is too large to print. Let's subset the table to include only rows for integer values contained within our QC subset:"
   ]
  },
  {
   "cell_type": "code",
   "execution_count": 12,
   "metadata": {},
   "outputs": [
    {
     "data": {
      "text/html": [
       "<table>\n",
       "<thead><tr><th scope=col>Integer_Value</th><th scope=col>Bit7</th><th scope=col>Bit6</th><th scope=col>Bit5</th><th scope=col>Bit4</th><th scope=col>Bit3</th><th scope=col>Bit2</th><th scope=col>Bit1</th><th scope=col>Bit0</th><th scope=col>Mandatory_QA</th><th scope=col>Data_Quality</th><th scope=col>Emiss_Err</th><th scope=col>LST_Err</th></tr></thead>\n",
       "<tbody>\n",
       "\t<tr><td><span style=white-space:pre-wrap>  0</span>                       </td><td>0                                                                 </td><td>0                                                                 </td><td>0                                                                 </td><td>0                                                                 </td><td>0                                                                 </td><td>0                                                                 </td><td>0                                                                 </td><td>0                                                                 </td><td><span style=white-space:pre-wrap>LST GOOD                  </span></td><td>Good Data                                                         </td><td>Emiss Error &lt;= .01                                             </td><td>LST Err &lt;= 1K                                                  </td></tr>\n",
       "\t<tr><td><span style=white-space:pre-wrap>  2</span>                       </td><td>0                                                                 </td><td>0                                                                 </td><td>0                                                                 </td><td>0                                                                 </td><td>0                                                                 </td><td>0                                                                 </td><td>1                                                                 </td><td>0                                                                 </td><td><span style=white-space:pre-wrap>No Pixel,clouds           </span></td><td>Good Data                                                         </td><td>Emiss Error &lt;= .01                                             </td><td>LST Err &lt;= 1K                                                  </td></tr>\n",
       "\t<tr><td> 17                                                          </td><td>0                                                            </td><td>0                                                            </td><td>0                                                            </td><td>1                                                            </td><td>0                                                            </td><td>0                                                            </td><td>0                                                            </td><td>1                                                            </td><td>LST Produced,Other Quality                                   </td><td>Good Data                                                    </td><td><span style=white-space:pre-wrap>Emiss Err &lt;=.02   </span></td><td>LST Err &lt;= 1K                                             </td></tr>\n",
       "\t<tr><td> 65                       </td><td>0                         </td><td>1                         </td><td>0                         </td><td>0                         </td><td>0                         </td><td>0                         </td><td>0                         </td><td>1                         </td><td>LST Produced,Other Quality</td><td>Good Data                 </td><td>Emiss Error &lt;= .01     </td><td>LST Err &lt;= 3K          </td></tr>\n",
       "\t<tr><td> 81                                                          </td><td>0                                                            </td><td>1                                                            </td><td>0                                                            </td><td>1                                                            </td><td>0                                                            </td><td>0                                                            </td><td>0                                                            </td><td>1                                                            </td><td>LST Produced,Other Quality                                   </td><td>Good Data                                                    </td><td><span style=white-space:pre-wrap>Emiss Err &lt;=.02   </span></td><td>LST Err &lt;= 3K                                             </td></tr>\n",
       "\t<tr><td> 97                                                          </td><td>0                                                            </td><td>1                                                            </td><td>1                                                            </td><td>0                                                            </td><td>0                                                            </td><td>0                                                            </td><td>0                                                            </td><td>1                                                            </td><td>LST Produced,Other Quality                                   </td><td>Good Data                                                    </td><td><span style=white-space:pre-wrap>Emiss Err &lt;=.04   </span></td><td>LST Err &lt;= 3K                                             </td></tr>\n",
       "\t<tr><td>145                                                          </td><td>1                                                            </td><td>0                                                            </td><td>0                                                            </td><td>1                                                            </td><td>0                                                            </td><td>0                                                            </td><td>0                                                            </td><td>1                                                            </td><td>LST Produced,Other Quality                                   </td><td>Good Data                                                    </td><td><span style=white-space:pre-wrap>Emiss Err &lt;=.02   </span></td><td>LST Err &lt;= 2K                                             </td></tr>\n",
       "</tbody>\n",
       "</table>\n"
      ],
      "text/latex": [
       "\\begin{tabular}{r|lllllllllllll}\n",
       " Integer\\_Value & Bit7 & Bit6 & Bit5 & Bit4 & Bit3 & Bit2 & Bit1 & Bit0 & Mandatory\\_QA & Data\\_Quality & Emiss\\_Err & LST\\_Err\\\\\n",
       "\\hline\n",
       "\t   0                        & 0                          & 0                          & 0                          & 0                          & 0                          & 0                          & 0                          & 0                          & LST GOOD                   & Good Data                  & Emiss Error <= .01         & LST Err <= 1K             \\\\\n",
       "\t   2                        & 0                          & 0                          & 0                          & 0                          & 0                          & 0                          & 1                          & 0                          & No Pixel,clouds            & Good Data                  & Emiss Error <= .01         & LST Err <= 1K             \\\\\n",
       "\t  17                        & 0                          & 0                          & 0                          & 1                          & 0                          & 0                          & 0                          & 1                          & LST Produced,Other Quality & Good Data                  & Emiss Err <=.02            & LST Err <= 1K             \\\\\n",
       "\t  65                        & 0                          & 1                          & 0                          & 0                          & 0                          & 0                          & 0                          & 1                          & LST Produced,Other Quality & Good Data                  & Emiss Error <= .01         & LST Err <= 3K             \\\\\n",
       "\t  81                        & 0                          & 1                          & 0                          & 1                          & 0                          & 0                          & 0                          & 1                          & LST Produced,Other Quality & Good Data                  & Emiss Err <=.02            & LST Err <= 3K             \\\\\n",
       "\t  97                        & 0                          & 1                          & 1                          & 0                          & 0                          & 0                          & 0                          & 1                          & LST Produced,Other Quality & Good Data                  & Emiss Err <=.04            & LST Err <= 3K             \\\\\n",
       "\t 145                        & 1                          & 0                          & 0                          & 1                          & 0                          & 0                          & 0                          & 1                          & LST Produced,Other Quality & Good Data                  & Emiss Err <=.02            & LST Err <= 2K             \\\\\n",
       "\\end{tabular}\n"
      ],
      "text/markdown": [
       "\n",
       "Integer_Value | Bit7 | Bit6 | Bit5 | Bit4 | Bit3 | Bit2 | Bit1 | Bit0 | Mandatory_QA | Data_Quality | Emiss_Err | LST_Err | \n",
       "|---|---|---|---|---|---|---|\n",
       "|   0                        | 0                          | 0                          | 0                          | 0                          | 0                          | 0                          | 0                          | 0                          | LST GOOD                   | Good Data                  | Emiss Error <= .01         | LST Err <= 1K              | \n",
       "|   2                        | 0                          | 0                          | 0                          | 0                          | 0                          | 0                          | 1                          | 0                          | No Pixel,clouds            | Good Data                  | Emiss Error <= .01         | LST Err <= 1K              | \n",
       "|  17                        | 0                          | 0                          | 0                          | 1                          | 0                          | 0                          | 0                          | 1                          | LST Produced,Other Quality | Good Data                  | Emiss Err <=.02            | LST Err <= 1K              | \n",
       "|  65                        | 0                          | 1                          | 0                          | 0                          | 0                          | 0                          | 0                          | 1                          | LST Produced,Other Quality | Good Data                  | Emiss Error <= .01         | LST Err <= 3K              | \n",
       "|  81                        | 0                          | 1                          | 0                          | 1                          | 0                          | 0                          | 0                          | 1                          | LST Produced,Other Quality | Good Data                  | Emiss Err <=.02            | LST Err <= 3K              | \n",
       "|  97                        | 0                          | 1                          | 1                          | 0                          | 0                          | 0                          | 0                          | 1                          | LST Produced,Other Quality | Good Data                  | Emiss Err <=.04            | LST Err <= 3K              | \n",
       "| 145                        | 1                          | 0                          | 0                          | 1                          | 0                          | 0                          | 0                          | 1                          | LST Produced,Other Quality | Good Data                  | Emiss Err <=.02            | LST Err <= 2K              | \n",
       "\n",
       "\n"
      ],
      "text/plain": [
       "  Integer_Value Bit7 Bit6 Bit5 Bit4 Bit3 Bit2 Bit1 Bit0\n",
       "1   0           0    0    0    0    0    0    0    0   \n",
       "2   2           0    0    0    0    0    0    1    0   \n",
       "3  17           0    0    0    1    0    0    0    1   \n",
       "4  65           0    1    0    0    0    0    0    1   \n",
       "5  81           0    1    0    1    0    0    0    1   \n",
       "6  97           0    1    1    0    0    0    0    1   \n",
       "7 145           1    0    0    1    0    0    0    1   \n",
       "  Mandatory_QA               Data_Quality Emiss_Err          LST_Err      \n",
       "1 LST GOOD                   Good Data    Emiss Error <= .01 LST Err <= 1K\n",
       "2 No Pixel,clouds            Good Data    Emiss Error <= .01 LST Err <= 1K\n",
       "3 LST Produced,Other Quality Good Data    Emiss Err <=.02    LST Err <= 1K\n",
       "4 LST Produced,Other Quality Good Data    Emiss Error <= .01 LST Err <= 3K\n",
       "5 LST Produced,Other Quality Good Data    Emiss Err <=.02    LST Err <= 3K\n",
       "6 LST Produced,Other Quality Good Data    Emiss Err <=.04    LST Err <= 3K\n",
       "7 LST Produced,Other Quality Good Data    Emiss Err <=.02    LST Err <= 2K"
      ]
     },
     "metadata": {},
     "output_type": "display_data"
    }
   ],
   "source": [
    "QC_Data <- QC_Data[QC_Data$Integer_Value %in% qcvals,]\n",
    "rownames(QC_Data) <- NULL\n",
    "QC_Data"
   ]
  },
  {
   "cell_type": "markdown",
   "metadata": {},
   "source": [
    "Now we can decide which QC filtering criteria satisfy our needs. In this example, we will filter:  \n",
    "* Pixels that were not produced due to cloud cover:  **Integer_Value %in% c(2,3)**\n",
    "* Pixels of 'other quality' that and have an LST error > 2K:  **Bit0 == 1 & Bit1 == 0 & Bit6 != 0**\n",
    "\n",
    "Subset the QC integer table again to include only rows that represent QC criteria for pixels that we want to filter:"
   ]
  },
  {
   "cell_type": "code",
   "execution_count": 13,
   "metadata": {},
   "outputs": [
    {
     "data": {
      "text/html": [
       "<table>\n",
       "<thead><tr><th scope=col>Integer_Value</th><th scope=col>Bit7</th><th scope=col>Bit6</th><th scope=col>Bit5</th><th scope=col>Bit4</th><th scope=col>Bit3</th><th scope=col>Bit2</th><th scope=col>Bit1</th><th scope=col>Bit0</th><th scope=col>Mandatory_QA</th><th scope=col>Data_Quality</th><th scope=col>Emiss_Err</th><th scope=col>LST_Err</th></tr></thead>\n",
       "<tbody>\n",
       "\t<tr><td> 2                                                                </td><td>0                                                                 </td><td>0                                                                 </td><td>0                                                                 </td><td>0                                                                 </td><td>0                                                                 </td><td>0                                                                 </td><td>1                                                                 </td><td>0                                                                 </td><td><span style=white-space:pre-wrap>No Pixel,clouds           </span></td><td>Good Data                                                         </td><td>Emiss Error &lt;= .01                                             </td><td>LST Err &lt;= 1K                                                  </td></tr>\n",
       "\t<tr><td>65                        </td><td>0                         </td><td>1                         </td><td>0                         </td><td>0                         </td><td>0                         </td><td>0                         </td><td>0                         </td><td>1                         </td><td>LST Produced,Other Quality</td><td>Good Data                 </td><td>Emiss Error &lt;= .01     </td><td>LST Err &lt;= 3K          </td></tr>\n",
       "\t<tr><td>81                                                           </td><td>0                                                            </td><td>1                                                            </td><td>0                                                            </td><td>1                                                            </td><td>0                                                            </td><td>0                                                            </td><td>0                                                            </td><td>1                                                            </td><td>LST Produced,Other Quality                                   </td><td>Good Data                                                    </td><td><span style=white-space:pre-wrap>Emiss Err &lt;=.02   </span></td><td>LST Err &lt;= 3K                                             </td></tr>\n",
       "\t<tr><td>97                                                           </td><td>0                                                            </td><td>1                                                            </td><td>1                                                            </td><td>0                                                            </td><td>0                                                            </td><td>0                                                            </td><td>0                                                            </td><td>1                                                            </td><td>LST Produced,Other Quality                                   </td><td>Good Data                                                    </td><td><span style=white-space:pre-wrap>Emiss Err &lt;=.04   </span></td><td>LST Err &lt;= 3K                                             </td></tr>\n",
       "</tbody>\n",
       "</table>\n"
      ],
      "text/latex": [
       "\\begin{tabular}{r|lllllllllllll}\n",
       " Integer\\_Value & Bit7 & Bit6 & Bit5 & Bit4 & Bit3 & Bit2 & Bit1 & Bit0 & Mandatory\\_QA & Data\\_Quality & Emiss\\_Err & LST\\_Err\\\\\n",
       "\\hline\n",
       "\t  2                         & 0                          & 0                          & 0                          & 0                          & 0                          & 0                          & 1                          & 0                          & No Pixel,clouds            & Good Data                  & Emiss Error <= .01         & LST Err <= 1K             \\\\\n",
       "\t 65                         & 0                          & 1                          & 0                          & 0                          & 0                          & 0                          & 0                          & 1                          & LST Produced,Other Quality & Good Data                  & Emiss Error <= .01         & LST Err <= 3K             \\\\\n",
       "\t 81                         & 0                          & 1                          & 0                          & 1                          & 0                          & 0                          & 0                          & 1                          & LST Produced,Other Quality & Good Data                  & Emiss Err <=.02            & LST Err <= 3K             \\\\\n",
       "\t 97                         & 0                          & 1                          & 1                          & 0                          & 0                          & 0                          & 0                          & 1                          & LST Produced,Other Quality & Good Data                  & Emiss Err <=.04            & LST Err <= 3K             \\\\\n",
       "\\end{tabular}\n"
      ],
      "text/markdown": [
       "\n",
       "Integer_Value | Bit7 | Bit6 | Bit5 | Bit4 | Bit3 | Bit2 | Bit1 | Bit0 | Mandatory_QA | Data_Quality | Emiss_Err | LST_Err | \n",
       "|---|---|---|---|\n",
       "|  2                         | 0                          | 0                          | 0                          | 0                          | 0                          | 0                          | 1                          | 0                          | No Pixel,clouds            | Good Data                  | Emiss Error <= .01         | LST Err <= 1K              | \n",
       "| 65                         | 0                          | 1                          | 0                          | 0                          | 0                          | 0                          | 0                          | 1                          | LST Produced,Other Quality | Good Data                  | Emiss Error <= .01         | LST Err <= 3K              | \n",
       "| 81                         | 0                          | 1                          | 0                          | 1                          | 0                          | 0                          | 0                          | 1                          | LST Produced,Other Quality | Good Data                  | Emiss Err <=.02            | LST Err <= 3K              | \n",
       "| 97                         | 0                          | 1                          | 1                          | 0                          | 0                          | 0                          | 0                          | 1                          | LST Produced,Other Quality | Good Data                  | Emiss Err <=.04            | LST Err <= 3K              | \n",
       "\n",
       "\n"
      ],
      "text/plain": [
       "  Integer_Value Bit7 Bit6 Bit5 Bit4 Bit3 Bit2 Bit1 Bit0\n",
       "1  2            0    0    0    0    0    0    1    0   \n",
       "2 65            0    1    0    0    0    0    0    1   \n",
       "3 81            0    1    0    1    0    0    0    1   \n",
       "4 97            0    1    1    0    0    0    0    1   \n",
       "  Mandatory_QA               Data_Quality Emiss_Err          LST_Err      \n",
       "1 No Pixel,clouds            Good Data    Emiss Error <= .01 LST Err <= 1K\n",
       "2 LST Produced,Other Quality Good Data    Emiss Error <= .01 LST Err <= 3K\n",
       "3 LST Produced,Other Quality Good Data    Emiss Err <=.02    LST Err <= 3K\n",
       "4 LST Produced,Other Quality Good Data    Emiss Err <=.04    LST Err <= 3K"
      ]
     },
     "metadata": {},
     "output_type": "display_data"
    }
   ],
   "source": [
    "QC_Data <- QC_Data[QC_Data$Bit0 == 1 & QC_Data$Bit1 == 0 & QC_Data$Bit6 != 0 | QC_Data$Integer_Value %in% c(2, 3),]\n",
    "rownames(QC_Data) <- NULL\n",
    "QC_Data"
   ]
  },
  {
   "cell_type": "markdown",
   "metadata": {},
   "source": [
    "Loop through rows of the LST data.frame and filter pixels where: **qcdata %in% QC_Data$Integer_Value**"
   ]
  },
  {
   "cell_type": "code",
   "execution_count": 14,
   "metadata": {
    "collapsed": true
   },
   "outputs": [],
   "source": [
    "filter <- QC_Data$Integer_Value # We will remove these values\n",
    "\n",
    "for(tstep in seq(1, length(dates), by = 1)){   \n",
    "    filt <- which(qcdata[tstep,] %in% filter)\n",
    "    lstdata[tstep,filt] <- NA\n",
    "}"
   ]
  },
  {
   "cell_type": "markdown",
   "metadata": {},
   "source": [
    "### Plot the LST time series\n",
    "\n",
    "Now that the LST time series is filtered according to our QC criteria, prepare to plot. Apply the scale factor for LST (0.02). The scale factor is returned as text with our most recent subset request (*subset$scale*).\n",
    "\n",
    "Then, calculate mean, standard deviation, and the percentage of acceptable quality pixels for each timestep in a new data.frame called *lststats*:"
   ]
  },
  {
   "cell_type": "code",
   "execution_count": 15,
   "metadata": {
    "collapsed": true
   },
   "outputs": [],
   "source": [
    "lstdata <- lstdata*as.numeric(subset$scale) # Apply scale factor\n",
    "\n",
    "lststats <- data.frame(\n",
    "    date = timeseries$Date, \n",
    "    mean = rowMeans(lstdata, na.rm=TRUE), \n",
    "    sd = apply(lstdata, 1, sd, na.rm = TRUE),\n",
    "    quality = apply(lstdata, 1, function(x) sum(!is.na(x))/(nrow*ncol)*100))\n",
    "\n",
    "# Get min and max of the calculated means\n",
    "meanMax <- max(lststats$mean, na.rm = TRUE)\n",
    "meanMin <- min(lststats$mean, na.rm = TRUE)     \n",
    "# Create simple function to scale the quality values to the mean values for plotting\n",
    "scaleq <- function(x){((x-0)/(100-0))*(meanMax-meanMin)+meanMin}"
   ]
  },
  {
   "cell_type": "markdown",
   "metadata": {},
   "source": [
    "Find the 68% confidence intervals and plot:"
   ]
  },
  {
   "cell_type": "code",
   "execution_count": 16,
   "metadata": {},
   "outputs": [
    {
     "data": {},
     "metadata": {},
     "output_type": "display_data"
    },
    {
     "data": {
      "image/png": "[encoded data removed]",
      "text/plain": [
       "plot without title"
      ]
     },
     "metadata": {},
     "output_type": "display_data"
    }
   ],
   "source": [
    "# find the 68% confidence intervals around the mean\n",
    "y1 <- lststats$mean + lststats$sd \n",
    "y2 <- lststats$mean - lststats$sd\n",
    "\n",
    "plot <- ggplot(lststats) +\n",
    "  # Data quality\n",
    "  geom_col(aes(y=scaleq(lststats$quality), x=date), fill= 'blue', alpha = 0.2) +\n",
    "  scale_y_continuous(limits = c(meanMin, meanMax), oob = rescale_none, sec.axis = sec_axis(~((. - meanMin)/(meanMax - meanMin))*100, name = \"% Good Pixels\")) +\n",
    "\n",
    "  # LST mean and sd\n",
    "  geom_ribbon(aes(ymin=y2, ymax=y1, x=date), fill = 'darkgray') + # draw the shaded area for 68% CI\n",
    "  geom_line(aes(y=mean, x=date), colour = '#2D708EFF') + # draw the line for the mean value  \n",
    "\n",
    "  labs(title = 'MOD11A2 Land Surface Temperature', subtitle = 'Subset Mean and 68% CI') +\n",
    "  ylab(' LST (K)') + # add a y-axis label\n",
    "  xlab(\"Date\") + # add a x-axis label\n",
    "  theme_bw() + # set the plot theme\n",
    "  theme(plot.title = element_text(lineheight=.8, face=\"bold\", size=20), \n",
    "        axis.title.x = element_text(face=\"bold\", size=20), \n",
    "        axis.title.y = element_text(face=\"bold\", size=20), \n",
    "        axis.text.x = element_text(size=16), \n",
    "        axis.text.y = element_text(size=16)) # set optional theme elements\n",
    "\n",
    "options(repr.plot.width = 10, repr.plot.height = 3)\n",
    "plot"
   ]
  }
 ],
 "metadata": {
  "kernelspec": {
   "display_name": "R",
   "language": "R",
   "name": "ir"
  },
  "language_info": {
   "codemirror_mode": "r",
   "file_extension": ".r",
   "mimetype": "text/x-r-source",
   "name": "R",
   "pygments_lexer": "r",
   "version": "3.4.2"
  }
 },
 "nbformat": 4,
 "nbformat_minor": 2
}
